{
 "cells": [
  {
   "cell_type": "markdown",
   "id": "9c011f8e-c91f-4ed2-9aac-7cec86e4a071",
   "metadata": {},
   "source": [
    "# Working in SymPy\n",
    "\n",
    "`SymPy` is a package for symbolic manipulation of expressions, equations, and calculus. The [website](https://docs.sympy.org/latest/index.html) for `SymPy` has tutorials explaining how things work. You can also use the `help()` and `dir()` functions to explore the properties of the `SymPy` package.\n",
    "\n",
    "The way it is structured is that the different mathematical objects are defined with capital letters (e.g. `Symbol`, `Function`, `Matrix`) while the functions and utilities are defined with lower-case leading letters (e.g. `simplify`, `dsolve`)."
   ]
  },
  {
   "cell_type": "markdown",
   "id": "f02f4bb2-26fe-46c7-b8fb-4336f4c2576e",
   "metadata": {},
   "source": [
    "### 1. **Basic Operations**\n",
    "\n",
    "- `symbols()`: Define symbolic variables for expressions.\n",
    "- `subs()`: Substitute values or expressions for variables.\n",
    "- `sympify()`: Convert strings or Python objects to SymPy expressions.\n",
    "- `evalf()`: Evaluate expressions to floating-point numbers.\n",
    "- `lambdify()`: Convert symbolic expressions to numerical functions (supports backends like NumPy and SciPy).\n"
   ]
  },
  {
   "cell_type": "markdown",
   "id": "c273a14c-4628-42e5-8431-0cbd58476e53",
   "metadata": {},
   "source": [
    "### 2. **Simplifying Expressions**\n",
    "\n",
    "- `simplify()`: Simplify general expressions (algebraic, trigonometric, etc.).\n",
    "- `expand()`: Expand an expression (e.g., expand a polynomial or product).\n",
    "- `factor()`: Factor expressions (e.g., factor a polynomial).\n",
    "- `collect()`: Collect like terms in an expression.\n",
    "- `apart()`: Partial fraction decomposition of rational expressions.\n",
    "- `cancel()`: Cancel common factors in a rational function.\n",
    "- `trigsimp()`: Simplify trigonometric expressions.\n",
    "- `logcombine()`: Combine logarithmic terms into a single expression.\n",
    "- `powsimp()`: Simplify powers and exponents.\n"
   ]
  },
  {
   "cell_type": "markdown",
   "id": "17af0651-4cea-4dee-8b50-ff48f9118935",
   "metadata": {},
   "source": [
    "### 3. **Calculus**\n",
    "\n",
    "#### 3.1 Derivatives\n",
    "- `diff()`: Compute derivatives of expressions (supports higher-order derivatives).\n",
    "\n",
    "#### 3.2 Integrals\n",
    "- `integrate()`: Compute symbolic integrals (both definite and indefinite).\n",
    "- `integrate(f, (var, a, b))`: Compute definite integrals over an interval.\n",
    "  \n",
    "#### 3.3 Limits\n",
    "- `limit()`: Compute the limit of an expression as a variable approaches a value.\n",
    "\n",
    "#### 3.4 Series\n",
    "- `series()`: Expand a function in a Taylor or Laurent series around a point.\n"
   ]
  },
  {
   "cell_type": "markdown",
   "id": "87d5dd3d-d260-4df4-a02b-0e3e1525ffde",
   "metadata": {},
   "source": [
    "### 4. **Linear Algebra**\n",
    "\n",
    "- `Matrix()`: Define symbolic matrices.\n",
    "- `det()`: Compute the determinant of a matrix.\n",
    "- `inv()`: Compute the inverse of a matrix.\n",
    "- `eigenvals()`: Compute eigenvalues of a matrix.\n",
    "- `eigenvects()`: Compute eigenvectors of a matrix.\n",
    "- `solve_linear_system()`: Solve a system of linear equations.\n",
    "- `transpose()`: Transpose a matrix.\n",
    "- `rref()`: Compute the reduced row echelon form of a matrix.\n"
   ]
  },
  {
   "cell_type": "markdown",
   "id": "fcdad056-2414-42d9-844a-ed5dd00f58ec",
   "metadata": {},
   "source": [
    "### 5. **Differential Equations**\n",
    "\n",
    "- `dsolve()`: Solve ordinary differential equations (ODEs).\n",
    "- `Function()`: Define a function that represents the solution of a differential equation.\n",
    "- `Eq()`: Set up an equation (useful for defining differential equations).\n",
    "- `classify_ode()`: Classify an ODE to determine its solution method.\n",
    "- `checkodesol()`: Check whether a solution satisfies a given differential equation.\n"
   ]
  },
  {
   "cell_type": "markdown",
   "id": "83afdf77-b9ef-49ac-81cb-8808919406cc",
   "metadata": {},
   "source": [
    "### 6. **Solving Equations**\n",
    "\n",
    "- `solve()`: Solve algebraic equations (returns roots or solutions).\n",
    "- `nonlinsolve()`: Solve systems of nonlinear equations.\n",
    "- `linsolve()`: Solve systems of linear equations.\n",
    "- `solvers.solvers.solve()`: A more general solver for symbolic equations.\n",
    "- `solvers.decomp_ineq()`: Decompose inequalities for solving them.\n"
   ]
  },
  {
   "cell_type": "markdown",
   "id": "d553c212-6c9a-4bae-8f59-eac3f40886b5",
   "metadata": {},
   "source": [
    "### 7. **Polynomials**\n",
    "\n",
    "- `Poly()`: Create a polynomial object for more control over polynomials.\n",
    "- `degree()`: Get the degree of a polynomial.\n",
    "- `roots()`: Find the roots of a polynomial.\n",
    "- `gcd()`: Compute the greatest common divisor of polynomials.\n",
    "- `lcm()`: Compute the least common multiple of polynomials.\n"
   ]
  },
  {
   "cell_type": "markdown",
   "id": "29b03144-71d0-437e-88f1-bdc36b948df3",
   "metadata": {},
   "source": [
    "### 8. **Trigonometry**\n",
    "\n",
    "- `sin()`, `cos()`, `tan()`: Basic trigonometric functions.\n",
    "- `asin()`, `acos()`, `atan()`: Inverse trigonometric functions.\n",
    "- `expand_trig()`: Expand trigonometric expressions (e.g., using angle addition formulas).\n",
    "- `trigsimp()`: Simplify trigonometric expressions.\n",
    "- `rewrite()`: Rewrite trigonometric functions in terms of other functions (e.g., rewrite `sin(x)` in terms of exponential functions).\n"
   ]
  },
  {
   "cell_type": "markdown",
   "id": "00b21f75-b3d3-4452-83b2-c9e95ae4a2ca",
   "metadata": {},
   "source": [
    "### Here's an example of how to solve a quadratic equation"
   ]
  },
  {
   "cell_type": "code",
   "execution_count": 1,
   "id": "1292573a-ec37-405d-b771-6148870a5196",
   "metadata": {},
   "outputs": [
    {
     "data": {
      "text/plain": [
       "[(-b - sqrt(-4*a*c + b**2))/(2*a), (-b + sqrt(-4*a*c + b**2))/(2*a)]"
      ]
     },
     "execution_count": 1,
     "metadata": {},
     "output_type": "execute_result"
    }
   ],
   "source": [
    "import sympy as sp\n",
    "\n",
    "# Define the symbolic variables\n",
    "a, b, c, x = sp.symbols('a b c x')\n",
    "\n",
    "# Define the quadratic equation: ax^2 + bx + c = 0\n",
    "quadratic_eq = sp.Eq(a*x**2 + b*x + c, 0)\n",
    "\n",
    "# Solve the quadratic equation for x\n",
    "solutions = sp.solve(quadratic_eq, x)\n",
    "\n",
    "# Display the solutions\n",
    "solutions\n"
   ]
  },
  {
   "cell_type": "markdown",
   "id": "6f130c0d-870b-4e8e-b398-f4a3ea395e30",
   "metadata": {},
   "source": [
    "### Here's an example of how to solve a differential equation"
   ]
  },
  {
   "cell_type": "code",
   "execution_count": 94,
   "id": "1d908ff4-300b-41da-b3a2-e4b466632edb",
   "metadata": {},
   "outputs": [
    {
     "data": {
      "image/png": "[encoded data removed]",
      "text/latex": [
       "$\\displaystyle y{\\left(x \\right)} = y_{0} e^{- \\frac{b x}{a}} e^{\\frac{b x_{0}}{a}}$"
      ],
      "text/plain": [
       "           -b⋅x   b⋅x₀\n",
       "           ─────  ────\n",
       "             a     a  \n",
       "y(x) = y₀⋅ℯ     ⋅ℯ    "
      ]
     },
     "execution_count": 94,
     "metadata": {},
     "output_type": "execute_result"
    }
   ],
   "source": [
    "import sympy as sp\n",
    "\n",
    "# Define the symbolic variables and function\n",
    "x, x0, y0, a, b = sp.symbols('x x0 y0 a b')  # Independent variable, constants, initial condition\n",
    "y = sp.Function('y')(x)  # Dependent variable y as a function of x\n",
    "\n",
    "# Define the first-order differential equation: a*y' + b*y = 0\n",
    "diff_eq = sp.Eq(a * y.diff(x) + b * y, 0)\n",
    "\n",
    "# Solve the differential equation\n",
    "general_solution = sp.dsolve(diff_eq, y)\n",
    "\n",
    "# Extract the solution for y(x)\n",
    "solution_y = general_solution.rhs\n",
    "\n",
    "# Apply the initial condition: y(x0) = y0\n",
    "initial_condition = sp.Eq(solution_y.subs(x, x0), y0)\n",
    "\n",
    "# Solve for the constant C1\n",
    "C1_value = sp.solve(initial_condition, sp.symbols('C1'))[0]\n",
    "\n",
    "# Substitute C1 back into the general solution\n",
    "solution_with_ic = general_solution.subs(sp.symbols('C1'), C1_value)\n",
    "\n",
    "# Display the solution with initial conditions\n",
    "solution_with_ic\n"
   ]
  },
  {
   "cell_type": "markdown",
   "id": "3cc4df62-649e-44a5-8162-29d985bff03d",
   "metadata": {},
   "source": [
    "## Assignment (1): Use `SymPy` to test the solutions we derived in class last week. \n",
    "\n",
    "$Q_{tr} = A cos(\\omega_\\gamma t) + B sin(\\omega_\\gamma t)$\n",
    "\n",
    "and \n",
    "\n",
    "$Q_{st} = \\bar{C} cos(\\omega t - \\phi)$\n",
    "\n",
    "where\n",
    "\n",
    "$\\omega_\\gamma = \\omega_0^2 - \\gamma^2$,\n",
    "\n",
    "$\\bar{C} = \\frac{F_0/m}{\\sqrt{(\\omega_0^2-\\omega^2)^2-4\\gamma^2\\omega^2}}$,\n",
    "\n",
    "and\n",
    "\n",
    "$\\phi = \\frac{2\\gamma\\omega}{\\omega_0^2-\\omega^2}$"
   ]
  },
  {
   "cell_type": "code",
   "execution_count": 8,
   "id": "acbdddf9-70cf-43bf-9fd0-0716bac5cefd",
   "metadata": {},
   "outputs": [
    {
     "name": "stdout",
     "output_type": "stream",
     "text": [
      "Transient Solution Qtr:\n",
      "     ⎛     ____________⎞        ⎛     ____________⎞\n",
      "     ⎜    ╱    2     2 ⎟        ⎜    ╱    2     2 ⎟\n",
      "A⋅cos⎝t⋅╲╱  - γ  + w₀  ⎠ + B⋅sin⎝t⋅╲╱  - γ  + w₀  ⎠\n",
      "\n",
      "Steady-State Solution Qst:\n",
      "         ⎛                        ⎛     ____________⎞⎞\n",
      "         ⎜     ____________       ⎜    ╱    2     2 ⎟⎟\n",
      "         ⎜    ╱    2     2        ⎜2⋅╲╱  - γ  + w₀  ⎟⎟\n",
      "C_bar⋅cos⎜t⋅╲╱  - γ  + w₀   - atan⎜─────────────────⎟⎟\n",
      "         ⎝                        ⎝        γ        ⎠⎠\n",
      "\n",
      "Steady-State Solution Qst with parameters substituted:\n",
      "      ⎛                        ⎛     ____________⎞⎞\n",
      "      ⎜     ____________       ⎜    ╱    2     2 ⎟⎟\n",
      "      ⎜    ╱    2     2        ⎜2⋅╲╱  - γ  + w₀  ⎟⎟\n",
      "F₀⋅cos⎜t⋅╲╱  - γ  + w₀   - atan⎜─────────────────⎟⎟\n",
      "      ⎝                        ⎝        γ        ⎠⎠\n",
      "───────────────────────────────────────────────────\n",
      "                ________________________           \n",
      "               ╱  4      2 ⎛   2     2⎞            \n",
      "           m⋅╲╱  γ  + 4⋅γ ⋅⎝- γ  + w₀ ⎠            \n",
      "\n",
      "Governing equation residual (should simplify to 0):\n",
      "   ⎛            2                    2             ________________    ⎞    ⎛  ↪\n",
      "   ⎜         3⋅γ                 4⋅w₀             ╱      2       2     ⎟    ⎜  ↪\n",
      "F₀⋅⎜- ────────────────── + ────────────────── - ╲╱  - 3⋅γ  + 4⋅w₀  ⋅│γ│⎟⋅cos⎝t ↪\n",
      "   ⎜        ____________         ____________                          ⎟       ↪\n",
      "   ⎜       ╱          2         ╱          2                           ⎟       ↪\n",
      "   ⎜      ╱       4⋅w₀         ╱       4⋅w₀                            ⎟       ↪\n",
      "   ⎜     ╱   -3 + ─────       ╱   -3 + ─────                           ⎟       ↪\n",
      "   ⎜    ╱           2        ╱           2                             ⎟       ↪\n",
      "   ⎝  ╲╱           γ       ╲╱           γ                              ⎠       ↪\n",
      "────────────────────────────────────────────────────────────────────────────── ↪\n",
      "                                       ________________                        ↪\n",
      "                                      ╱      2       2                         ↪\n",
      "                                    ╲╱  - 3⋅γ  + 4⋅w₀  ⋅│γ│                    ↪\n",
      "\n",
      "↪     ____________⎞\n",
      "↪    ╱    2     2 ⎟\n",
      "↪ ⋅╲╱  - γ  + w₀  ⎠\n",
      "↪                  \n",
      "↪                  \n",
      "↪                  \n",
      "↪                  \n",
      "↪                  \n",
      "↪                  \n",
      "↪ ─────────────────\n",
      "↪                  \n",
      "↪                  \n",
      "↪                  \n"
     ]
    }
   ],
   "source": [
    "import sympy as sp\n",
    "import matplotlib.pyplot as plt\n",
    "import numpy as np\n",
    "\n",
    "# Define symbols\n",
    "t, w0, gamma, w, F0, m, phi, A, B, C_bar = sp.symbols('t w0 gamma w F0 m phi A B C_bar', real=True)\n",
    "\n",
    "# Define derived parameters\n",
    "w = sp.sqrt(w0**2 - gamma**2)  # omega_d\n",
    "C = F0 / m / sp.sqrt((w0**2 - w**2)**2 + (2*gamma*w)**2)  # Amplitude\n",
    "phi = sp.atan(2 * gamma * w / (w0**2 - w**2))  # Phase\n",
    "\n",
    "# Define solutions\n",
    "Qtr = A * sp.cos(w * t) + B * sp.sin(w * t)  # Transient solution\n",
    "Qst = C_bar * sp.cos(w * t - phi)  # Steady-state solution\n",
    "\n",
    "# Display the expressions\n",
    "print(\"Transient Solution Qtr:\")\n",
    "sp.pprint(Qtr)\n",
    "\n",
    "print(\"\\nSteady-State Solution Qst:\")\n",
    "sp.pprint(Qst)\n",
    "\n",
    "# Substitute parameters into steady-state solution\n",
    "Qst_substituted = Qst.subs({C_bar: C})\n",
    "\n",
    "print(\"\\nSteady-State Solution Qst with parameters substituted:\")\n",
    "sp.pprint(Qst_substituted)\n",
    "\n",
    "# Verification: Check if substituted steady-state solution satisfies the governing equation\n",
    "# Assuming the governing equation is of the form: m*Q'' + 2*m*gamma*Q' + m*w0**2*Q = F0*cos(w*t)\n",
    "Q = Qst_substituted\n",
    "Q_prime = sp.diff(Q, t)\n",
    "Q_double_prime = sp.diff(Q_prime, t)\n",
    "\n",
    "governing_eq = sp.simplify(m * Q_double_prime + 2 * m * gamma * Q_prime + m * w0**2 * Q - F0 * sp.cos(w * t))\n",
    "\n",
    "print(\"\\nGoverning equation residual (should simplify to 0):\")\n",
    "sp.pprint(governing_eq)\n",
    "\n"
   ]
  },
  {
   "cell_type": "markdown",
   "id": "7abe929c-4ca7-4690-84b6-216369e0c4a1",
   "metadata": {},
   "source": [
    "## Assignment (2): Create representative plots of $\\bar{C}$ and $\\phi$ \n"
   ]
  },
  {
   "cell_type": "code",
   "execution_count": 11,
   "id": "fa807cb1-d940-4d81-a6a2-f07ccfc31bb0",
   "metadata": {},
   "outputs": [
    {
     "data": {
      "image/png": "[encoded data removed]",
      "text/plain": [
       "<Figure size 1000x500 with 1 Axes>"
      ]
     },
     "metadata": {},
     "output_type": "display_data"
    },
    {
     "ename": "NameError",
     "evalue": "name 'phi_vals' is not defined",
     "output_type": "error",
     "traceback": [
      "\u001b[1;31m---------------------------------------------------------------------------\u001b[0m",
      "\u001b[1;31mNameError\u001b[0m                                 Traceback (most recent call last)",
      "Cell \u001b[1;32mIn[11], line 13\u001b[0m\n\u001b[0;32m     11\u001b[0m \u001b[38;5;66;03m# Plot phi (Phase) vs. gamma\u001b[39;00m\n\u001b[0;32m     12\u001b[0m plt\u001b[38;5;241m.\u001b[39mfigure(figsize\u001b[38;5;241m=\u001b[39m(\u001b[38;5;241m10\u001b[39m, \u001b[38;5;241m5\u001b[39m))\n\u001b[1;32m---> 13\u001b[0m plt\u001b[38;5;241m.\u001b[39mplot(valid_gamma_vals, \u001b[43mphi_vals\u001b[49m, label\u001b[38;5;241m=\u001b[39m\u001b[38;5;124m'\u001b[39m\u001b[38;5;124mphi (Phase)\u001b[39m\u001b[38;5;124m'\u001b[39m, color\u001b[38;5;241m=\u001b[39m\u001b[38;5;124m'\u001b[39m\u001b[38;5;124mred\u001b[39m\u001b[38;5;124m'\u001b[39m)\n\u001b[0;32m     14\u001b[0m plt\u001b[38;5;241m.\u001b[39mxlabel(\u001b[38;5;124m'\u001b[39m\u001b[38;5;124mDamping (gamma)\u001b[39m\u001b[38;5;124m'\u001b[39m)\n\u001b[0;32m     15\u001b[0m plt\u001b[38;5;241m.\u001b[39mylabel(\u001b[38;5;124m'\u001b[39m\u001b[38;5;124mPhase (phi) [radians]\u001b[39m\u001b[38;5;124m'\u001b[39m)\n",
      "\u001b[1;31mNameError\u001b[0m: name 'phi_vals' is not defined"
     ]
    },
    {
     "data": {
      "text/plain": [
       "<Figure size 1000x500 with 0 Axes>"
      ]
     },
     "metadata": {},
     "output_type": "display_data"
    }
   ],
   "source": [
    "\n",
    "# Plot C (Amplitude) vs. gamma\n",
    "plt.figure(figsize=(10, 5))\n",
    "plt.plot(valid_gamma_vals, label='C (Amplitude)', color='blue')\n",
    "plt.xlabel('Damping (gamma)')\n",
    "plt.ylabel('Amplitude (C)')\n",
    "plt.title('Amplitude vs. Damping')\n",
    "plt.legend()\n",
    "plt.grid()\n",
    "plt.show()\n",
    "\n",
    "# Plot phi (Phase) vs. gamma\n",
    "plt.figure(figsize=(10, 5))\n",
    "plt.plot(valid_gamma_vals, phi_vals, label='phi (Phase)', color='red')\n",
    "plt.xlabel('Damping (gamma)')\n",
    "plt.ylabel('Phase (phi) [radians]')\n",
    "plt.title('Phase vs. Damping')\n",
    "plt.legend()\n",
    "plt.grid()\n",
    "plt.show()"
   ]
  },
  {
   "cell_type": "code",
   "execution_count": null,
   "id": "f05f4afa-afa5-4194-a336-cdf4471b57ea",
   "metadata": {},
   "outputs": [],
   "source": []
  }
 ],
 "metadata": {
  "kernelspec": {
   "display_name": "Python 3 (ipykernel)",
   "language": "python",
   "name": "python3"
  },
  "language_info": {
   "codemirror_mode": {
    "name": "ipython",
    "version": 3
   },
   "file_extension": ".py",
   "mimetype": "text/x-python",
   "name": "python",
   "nbconvert_exporter": "python",
   "pygments_lexer": "ipython3",
   "version": "3.9.19"
  }
 },
 "nbformat": 4,
 "nbformat_minor": 5
}
